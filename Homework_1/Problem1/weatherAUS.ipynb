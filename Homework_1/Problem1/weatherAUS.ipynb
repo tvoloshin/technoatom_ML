{
 "cells": [
  {
   "cell_type": "code",
   "execution_count": 39,
   "id": "innovative-radical",
   "metadata": {},
   "outputs": [],
   "source": [
    "import pandas as pd\n",
    "import numpy as np\n",
    "import matplotlib.pyplot as plt"
   ]
  },
  {
   "cell_type": "code",
   "execution_count": 40,
   "id": "artificial-fleet",
   "metadata": {
    "scrolled": true
   },
   "outputs": [],
   "source": [
    "data = pd.read_csv(\"./weatherAUS.csv\")\n",
    "\n",
    "data['Date'] = pd.to_datetime(data['Date']).dt.month\n",
    "data = data.rename({'Date': 'Month'}, axis=1)\n",
    "\n",
    "binary = ['RainToday', 'RainTomorrow']\n",
    "for column in binary:\n",
    "    data[column] = data[column].map({'Yes': 1, 'No': 0})\n",
    "\n",
    "categorical = ['Location', 'WindGustDir', 'WindDir9am', 'WindDir3pm']\n",
    "for column in categorical:\n",
    "    data[column] = data[column].astype('category').cat.codes.replace(-1, np.nan)"
   ]
  },
  {
   "cell_type": "code",
   "execution_count": 41,
   "id": "electoral-trail",
   "metadata": {},
   "outputs": [],
   "source": [
    "target = data.pop('RainTomorrow').iloc[:-1]\n",
    "\n",
    "#Замена NaN на усредненноые по месяцам значения\n",
    "for column in data.columns.values[np.isnan(data).max()]:\n",
    "    monthly_average_for_index = data['Month'].map(data.groupby('Month')[column].mean())\n",
    "    data[column] = data[column].fillna(monthly_average_for_index)\n",
    "\n",
    "#Удаление NaN из целевой переменной\n",
    "unknown, data = data.iloc[-1], data.iloc[:-1]\n",
    "data = data.loc[pd.notnull(target)]\n",
    "target = target.dropna()"
   ]
  },
  {
   "cell_type": "code",
   "execution_count": 42,
   "id": "advisory-sydney",
   "metadata": {
    "scrolled": true
   },
   "outputs": [],
   "source": [
    "data = data.reset_index(drop=True)\n",
    "target = target.reset_index(drop=True)"
   ]
  },
  {
   "cell_type": "code",
   "execution_count": 43,
   "id": "collected-export",
   "metadata": {
    "scrolled": true
   },
   "outputs": [],
   "source": [
    "from sklearn.model_selection import train_test_split\n",
    "X_train, X_test, y_train, y_test = train_test_split(data, target, test_size=0.25, shuffle=False)"
   ]
  },
  {
   "cell_type": "markdown",
   "id": "sufficient-luxury",
   "metadata": {},
   "source": [
    "## Наивный Байес"
   ]
  },
  {
   "cell_type": "code",
   "execution_count": 44,
   "id": "residential-sharing",
   "metadata": {},
   "outputs": [
    {
     "data": {
      "text/plain": [
       "0.7793749472559003"
      ]
     },
     "execution_count": 44,
     "metadata": {},
     "output_type": "execute_result"
    }
   ],
   "source": [
    "from sklearn.naive_bayes import BernoulliNB\n",
    "\n",
    "classifier = BernoulliNB()\n",
    "classifier.fit(X_train, y_train)\n",
    "prediction = classifier.predict(X_test)\n",
    "\n",
    "(prediction == y_test).mean()"
   ]
  },
  {
   "cell_type": "code",
   "execution_count": 45,
   "id": "tender-firmware",
   "metadata": {},
   "outputs": [
    {
     "data": {
      "text/plain": [
       "0.8325972601198346"
      ]
     },
     "execution_count": 45,
     "metadata": {},
     "output_type": "execute_result"
    }
   ],
   "source": [
    "from sklearn.naive_bayes import GaussianNB\n",
    "\n",
    "classifier = GaussianNB()\n",
    "classifier.fit(X_train, y_train)\n",
    "prediction = classifier.predict(X_test)\n",
    "\n",
    "(prediction == y_test).mean()"
   ]
  },
  {
   "cell_type": "code",
   "execution_count": 46,
   "id": "pursuant-chosen",
   "metadata": {},
   "outputs": [],
   "source": [
    "#Логарифмирование некоторых признаков\n",
    "def logfunc(df, indices):\n",
    "    res = df.copy()\n",
    "    for i in indices:\n",
    "        res.iloc[:,i] = np.log1p(res.iloc[:,i])\n",
    "    return res"
   ]
  },
  {
   "cell_type": "code",
   "execution_count": 47,
   "id": "pressed-interview",
   "metadata": {},
   "outputs": [
    {
     "name": "stdout",
     "output_type": "stream",
     "text": [
      "Wall time: 170 ms\n"
     ]
    },
    {
     "data": {
      "text/plain": [
       "0.8332161242229036"
      ]
     },
     "execution_count": 47,
     "metadata": {},
     "output_type": "execute_result"
    }
   ],
   "source": [
    "%%time\n",
    "\n",
    "ind = [5,8,11]\n",
    "classifier = GaussianNB()\n",
    "classifier.fit(logfunc(X_train, ind), y_train)\n",
    "prediction = classifier.predict(logfunc(X_test, ind))\n",
    "\n",
    "(prediction == y_test).mean()"
   ]
  },
  {
   "cell_type": "code",
   "execution_count": 48,
   "id": "eight-indie",
   "metadata": {},
   "outputs": [],
   "source": [
    "from sklearn import metrics\n",
    "all_metrics = pd.DataFrame(index=['Naive Bayes', 'Nearest Neighbors', 'Logit Regression'],\n",
    "                      columns=['Accuracy', 'Precision', 'Recall', 'F1'])"
   ]
  },
  {
   "cell_type": "code",
   "execution_count": 49,
   "id": "collected-setting",
   "metadata": {},
   "outputs": [],
   "source": [
    "all_metrics.iloc[0, 0] = metrics.accuracy_score(y_test, prediction)\n",
    "all_metrics.iloc[0, 1] = metrics.precision_score(y_test, prediction)\n",
    "all_metrics.iloc[0, 2] = metrics.recall_score(y_test, prediction)\n",
    "all_metrics.iloc[0, 3] = metrics.f1_score(y_test, prediction)"
   ]
  },
  {
   "cell_type": "markdown",
   "id": "special-volunteer",
   "metadata": {},
   "source": [
    "## Логистическая регрессия"
   ]
  },
  {
   "cell_type": "code",
   "execution_count": 50,
   "id": "innocent-gazette",
   "metadata": {},
   "outputs": [],
   "source": [
    "from sklearn.linear_model import LogisticRegression\n",
    "import statsmodels.api as sm"
   ]
  },
  {
   "cell_type": "code",
   "execution_count": 51,
   "id": "trained-suffering",
   "metadata": {},
   "outputs": [
    {
     "data": {
      "text/plain": [
       "0.8440462460266112"
      ]
     },
     "execution_count": 51,
     "metadata": {},
     "output_type": "execute_result"
    }
   ],
   "source": [
    "classifier = LogisticRegression(penalty='l2', max_iter=5000)\n",
    "classifier.fit(X_train, y_train)\n",
    "prediction = classifier.predict(X_test)\n",
    "\n",
    "(prediction == y_test).mean()"
   ]
  },
  {
   "cell_type": "code",
   "execution_count": 52,
   "id": "dress-estate",
   "metadata": {},
   "outputs": [
    {
     "name": "stdout",
     "output_type": "stream",
     "text": [
      "0.8439899856536048\n"
     ]
    }
   ],
   "source": [
    "model = sm.Logit(y_train, X_train)\n",
    "result = model.fit(maxiter=1000, disp=0)\n",
    "print (np.mean((result.predict(X_test) >= 0.5).astype(int).values == y_test))"
   ]
  },
  {
   "cell_type": "code",
   "execution_count": 53,
   "id": "checked-powell",
   "metadata": {},
   "outputs": [],
   "source": [
    "#Добавим столбец единиц\n",
    "X_train_ones = X_train.join(pd.DataFrame({'ones': np.ones(len(X_train))}))\n",
    "X_test_ones = X_test.join(pd.DataFrame({'ones': np.ones(len(data))}))"
   ]
  },
  {
   "cell_type": "code",
   "execution_count": 54,
   "id": "vital-setup",
   "metadata": {},
   "outputs": [
    {
     "name": "stdout",
     "output_type": "stream",
     "text": [
      "0.8473374778474781\n",
      "Wall time: 655 ms\n"
     ]
    }
   ],
   "source": [
    "%%time\n",
    "\n",
    "result = sm.Logit(y_train, X_train_ones).fit(maxiter=1000, disp=0)\n",
    "print (np.mean((result.predict(X_test_ones) >= 0.5).astype(int).values == y_test))"
   ]
  },
  {
   "cell_type": "markdown",
   "id": "geographic-indonesian",
   "metadata": {},
   "source": [
    "#### Отбор признаков"
   ]
  },
  {
   "cell_type": "code",
   "execution_count": 55,
   "id": "alive-webcam",
   "metadata": {},
   "outputs": [],
   "source": [
    "from sys import float_info\n",
    "\n",
    "def forward_selected(data, response):\n",
    "    remaining = set(data.columns)\n",
    "    selected = []\n",
    "    current_score, best_new_score = float_info.max, float_info.max\n",
    "    while remaining and current_score == best_new_score:\n",
    "        scores_with_candidates = []\n",
    "        for candidate in remaining:\n",
    "            score = sm.Logit(response, data[selected + [candidate]]).fit(maxiter=1000, disp=0).bic\n",
    "            scores_with_candidates.append((score, candidate))\n",
    "        scores_with_candidates.sort(reverse=True)\n",
    "        best_new_score, best_candidate = scores_with_candidates.pop()\n",
    "        if current_score > best_new_score:\n",
    "            remaining.remove(best_candidate)\n",
    "            selected.append(best_candidate)\n",
    "            current_score = best_new_score\n",
    "    model = sm.Logit(response, data[selected]).fit(maxiter=1000, disp=0)\n",
    "    return model, selected"
   ]
  },
  {
   "cell_type": "code",
   "execution_count": 58,
   "id": "korean-survival",
   "metadata": {
    "scrolled": true
   },
   "outputs": [
    {
     "data": {
      "text/plain": [
       "0.8475062589664969"
      ]
     },
     "execution_count": 58,
     "metadata": {},
     "output_type": "execute_result"
    }
   ],
   "source": [
    "result = forward_selected(X_train_ones, y_train)\n",
    "\n",
    "prediction = (result[0].predict(X_test_ones[result[1]]) > .5).astype('int').values\n",
    "(prediction == y_test).mean()"
   ]
  },
  {
   "cell_type": "code",
   "execution_count": 59,
   "id": "acquired-episode",
   "metadata": {},
   "outputs": [],
   "source": [
    "all_metrics.iloc[2, 0] = metrics.accuracy_score(y_test, prediction)\n",
    "all_metrics.iloc[2, 1] = metrics.precision_score(y_test, prediction)\n",
    "all_metrics.iloc[2, 2] = metrics.recall_score(y_test, prediction)\n",
    "all_metrics.iloc[2, 3] = metrics.f1_score(y_test, prediction)"
   ]
  },
  {
   "cell_type": "code",
   "execution_count": 60,
   "id": "damaged-internship",
   "metadata": {},
   "outputs": [
    {
     "data": {
      "text/plain": [
       "['Sunshine',\n",
       " 'Humidity3pm',\n",
       " 'Pressure3pm',\n",
       " 'WindGustSpeed',\n",
       " 'RainToday',\n",
       " 'Pressure9am',\n",
       " 'Cloud3pm',\n",
       " 'WindSpeed3pm',\n",
       " 'Temp3pm',\n",
       " 'Location',\n",
       " 'Rainfall',\n",
       " 'WindSpeed9am',\n",
       " 'MaxTemp',\n",
       " 'WindDir9am',\n",
       " 'Month',\n",
       " 'WindGustDir']"
      ]
     },
     "execution_count": 60,
     "metadata": {},
     "output_type": "execute_result"
    }
   ],
   "source": [
    "result[1].remove('ones')\n",
    "selected = result[1]\n",
    "selected"
   ]
  },
  {
   "cell_type": "markdown",
   "id": "interim-klein",
   "metadata": {},
   "source": [
    "## Ближайшие соседи"
   ]
  },
  {
   "cell_type": "code",
   "execution_count": 61,
   "id": "expected-remove",
   "metadata": {},
   "outputs": [],
   "source": [
    "from sklearn.neighbors import KNeighborsClassifier"
   ]
  },
  {
   "cell_type": "code",
   "execution_count": 62,
   "id": "prostate-bernard",
   "metadata": {},
   "outputs": [],
   "source": [
    "#Удаление коррелирующих элементов\n",
    "corr_mtrx = np.corrcoef(X_train[selected].T)\n",
    "corr_ind = np.where(corr_mtrx > .95)\n",
    "for i in range(len(selected)):\n",
    "    if corr_ind[0][i] != corr_ind[1][i]:\n",
    "        selected.pop(corr_ind[0][i])"
   ]
  },
  {
   "cell_type": "code",
   "execution_count": 63,
   "id": "billion-estate",
   "metadata": {},
   "outputs": [
    {
     "name": "stdout",
     "output_type": "stream",
     "text": [
      "Wall time: 28.6 s\n"
     ]
    },
    {
     "data": {
      "text/plain": [
       "0.8437649441615798"
      ]
     },
     "execution_count": 63,
     "metadata": {},
     "output_type": "execute_result"
    }
   ],
   "source": [
    "%%time\n",
    "\n",
    "neigh = KNeighborsClassifier(n_neighbors=20)\n",
    "neigh.fit(X_train[selected], y_train)\n",
    "\n",
    "prediction = neigh.predict(X_test[selected])\n",
    "(prediction == y_test).mean()"
   ]
  },
  {
   "cell_type": "code",
   "execution_count": 64,
   "id": "stretch-observation",
   "metadata": {},
   "outputs": [],
   "source": [
    "all_metrics.iloc[1, 0] = metrics.accuracy_score(y_test, prediction)\n",
    "all_metrics.iloc[1, 1] = metrics.precision_score(y_test, prediction)\n",
    "all_metrics.iloc[1, 2] = metrics.recall_score(y_test, prediction)\n",
    "all_metrics.iloc[1, 3] = metrics.f1_score(y_test, prediction)"
   ]
  },
  {
   "cell_type": "markdown",
   "id": "proof-juvenile",
   "metadata": {},
   "source": [
    "## Итог"
   ]
  },
  {
   "cell_type": "markdown",
   "id": "alleged-majority",
   "metadata": {},
   "source": [
    "В ходе задания были построены три модели для решения задачи классификации.\n",
    "\n",
    "Была проведена некоторая работа с данными, в частности, все данные были приведены к числовым, отсутсвующие данные были дополнены средними значениями и т.д. Также был осуществлен отбор признаков, что улучшило точность и время работы методов.\n",
    "\n",
    "Были получены следующие метрики:"
   ]
  },
  {
   "cell_type": "code",
   "execution_count": 69,
   "id": "offshore-atlas",
   "metadata": {
    "scrolled": false
   },
   "outputs": [
    {
     "data": {
      "text/html": [
       "<div>\n",
       "<style scoped>\n",
       "    .dataframe tbody tr th:only-of-type {\n",
       "        vertical-align: middle;\n",
       "    }\n",
       "\n",
       "    .dataframe tbody tr th {\n",
       "        vertical-align: top;\n",
       "    }\n",
       "\n",
       "    .dataframe thead th {\n",
       "        text-align: right;\n",
       "    }\n",
       "</style>\n",
       "<table border=\"1\" class=\"dataframe\">\n",
       "  <thead>\n",
       "    <tr style=\"text-align: right;\">\n",
       "      <th></th>\n",
       "      <th>Accuracy</th>\n",
       "      <th>Precision</th>\n",
       "      <th>Recall</th>\n",
       "      <th>F1</th>\n",
       "    </tr>\n",
       "  </thead>\n",
       "  <tbody>\n",
       "    <tr>\n",
       "      <th>Naive Bayes</th>\n",
       "      <td>0.833</td>\n",
       "      <td>0.626</td>\n",
       "      <td>0.563</td>\n",
       "      <td>0.593</td>\n",
       "    </tr>\n",
       "    <tr>\n",
       "      <th>Nearest Neighbors</th>\n",
       "      <td>0.844</td>\n",
       "      <td>0.778</td>\n",
       "      <td>0.386</td>\n",
       "      <td>0.516</td>\n",
       "    </tr>\n",
       "    <tr>\n",
       "      <th>Logit Regression</th>\n",
       "      <td>0.848</td>\n",
       "      <td>0.748</td>\n",
       "      <td>0.441</td>\n",
       "      <td>0.555</td>\n",
       "    </tr>\n",
       "  </tbody>\n",
       "</table>\n",
       "</div>"
      ],
      "text/plain": [
       "                   Accuracy  Precision  Recall     F1\n",
       "Naive Bayes           0.833      0.626   0.563  0.593\n",
       "Nearest Neighbors     0.844      0.778   0.386  0.516\n",
       "Logit Regression      0.848      0.748   0.441  0.555"
      ]
     },
     "execution_count": 69,
     "metadata": {},
     "output_type": "execute_result"
    }
   ],
   "source": [
    "all_metrics.astype('float').round(3)"
   ]
  },
  {
   "cell_type": "markdown",
   "id": "destroyed-weather",
   "metadata": {},
   "source": [
    "Поскольку классы в выборке несбалансированы, accuracy получился больше остальных метрик, но именно они точнее говорят о результатах. Если ориентироваться на F-меру, то лучший результат получился с помощью Байесовского классификатора (распределение Гаусса), он же был и самым быстрым. Наименее точным, и при этом самым ресурсоемким оказался метод ближайших соседей."
   ]
  }
 ],
 "metadata": {
  "kernelspec": {
   "display_name": "Python 3",
   "language": "python",
   "name": "python3"
  },
  "language_info": {
   "codemirror_mode": {
    "name": "ipython",
    "version": 3
   },
   "file_extension": ".py",
   "mimetype": "text/x-python",
   "name": "python",
   "nbconvert_exporter": "python",
   "pygments_lexer": "ipython3",
   "version": "3.8.6"
  }
 },
 "nbformat": 4,
 "nbformat_minor": 5
}
