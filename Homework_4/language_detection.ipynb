{
  "nbformat": 4,
  "nbformat_minor": 0,
  "metadata": {
    "colab": {
      "name": "language_detection.ipynb",
      "provenance": []
    },
    "kernelspec": {
      "name": "python3",
      "display_name": "Python 3"
    },
    "language_info": {
      "name": "python"
    }
  },
  "cells": [
    {
      "cell_type": "code",
      "metadata": {
        "id": "neuKzv7Q3Kl1"
      },
      "source": [
        "import pandas as pd\n",
        "import html\n",
        "import re\n",
        "from sklearn.linear_model import SGDClassifier\n",
        "from sklearn.feature_extraction.text import TfidfVectorizer\n",
        "from sklearn.pipeline import Pipeline\n",
        "from sklearn.compose import ColumnTransformer\n",
        "from sklearn.model_selection import train_test_split\n",
        "from sklearn.metrics import balanced_accuracy_score"
      ],
      "execution_count": null,
      "outputs": []
    },
    {
      "cell_type": "code",
      "metadata": {
        "colab": {
          "base_uri": "https://localhost:8080/"
        },
        "id": "Hq5t8ll8z7ux",
        "outputId": "46a286b2-3d53-4615-fd72-81ebd3bbc47f"
      },
      "source": [
        "!mkdir ./data\n",
        "!wget https://www.dropbox.com/s/mp9d95ti5dfwxlt/train.csv?dl=0 -O ./data/train.csv\n",
        "!wget https://www.dropbox.com/s/a47s1tofl8q6by4/test.csv?dl=0 -O ./data/test.csv"
      ],
      "execution_count": null,
      "outputs": [
        {
          "output_type": "stream",
          "text": [
            "--2021-06-01 15:02:36--  https://www.dropbox.com/s/mp9d95ti5dfwxlt/train.csv?dl=0\n",
            "Resolving www.dropbox.com (www.dropbox.com)... 162.125.2.18, 2620:100:6017:18::a27d:212\n",
            "Connecting to www.dropbox.com (www.dropbox.com)|162.125.2.18|:443... connected.\n",
            "HTTP request sent, awaiting response... 301 Moved Permanently\n",
            "Location: /s/raw/mp9d95ti5dfwxlt/train.csv [following]\n",
            "--2021-06-01 15:02:36--  https://www.dropbox.com/s/raw/mp9d95ti5dfwxlt/train.csv\n",
            "Reusing existing connection to www.dropbox.com:443.\n",
            "HTTP request sent, awaiting response... 302 Found\n",
            "Location: https://uc3fb97f570e4ae63dbec6506793.dl.dropboxusercontent.com/cd/0/inline/BPk-GGHTVnVbb8tbbA3Yi57M7tp0b53OSXstW9gnrD8xJhrOZYpqac6G8NZLx5yvudcBrvAJYaj_e26vVFzBkl1Ze1j78MmsfNzW6CygxfoyNIpy-66xmOStAswVdgzsecguFsE7tqYej_Tmdl24FVkd/file# [following]\n",
            "--2021-06-01 15:02:36--  https://uc3fb97f570e4ae63dbec6506793.dl.dropboxusercontent.com/cd/0/inline/BPk-GGHTVnVbb8tbbA3Yi57M7tp0b53OSXstW9gnrD8xJhrOZYpqac6G8NZLx5yvudcBrvAJYaj_e26vVFzBkl1Ze1j78MmsfNzW6CygxfoyNIpy-66xmOStAswVdgzsecguFsE7tqYej_Tmdl24FVkd/file\n",
            "Resolving uc3fb97f570e4ae63dbec6506793.dl.dropboxusercontent.com (uc3fb97f570e4ae63dbec6506793.dl.dropboxusercontent.com)... 162.125.2.15, 2620:100:6020:15::a27d:400f\n",
            "Connecting to uc3fb97f570e4ae63dbec6506793.dl.dropboxusercontent.com (uc3fb97f570e4ae63dbec6506793.dl.dropboxusercontent.com)|162.125.2.15|:443... connected.\n",
            "HTTP request sent, awaiting response... 200 OK\n",
            "Length: 402924781 (384M) [text/plain]\n",
            "Saving to: ‘./data/train.csv’\n",
            "\n",
            "./data/train.csv    100%[===================>] 384.26M   140MB/s    in 2.7s    \n",
            "\n",
            "2021-06-01 15:02:39 (140 MB/s) - ‘./data/train.csv’ saved [402924781/402924781]\n",
            "\n",
            "--2021-06-01 15:02:39--  https://www.dropbox.com/s/a47s1tofl8q6by4/test.csv?dl=0\n",
            "Resolving www.dropbox.com (www.dropbox.com)... 162.125.2.18, 2620:100:6017:18::a27d:212\n",
            "Connecting to www.dropbox.com (www.dropbox.com)|162.125.2.18|:443... connected.\n",
            "HTTP request sent, awaiting response... 301 Moved Permanently\n",
            "Location: /s/raw/a47s1tofl8q6by4/test.csv [following]\n",
            "--2021-06-01 15:02:40--  https://www.dropbox.com/s/raw/a47s1tofl8q6by4/test.csv\n",
            "Reusing existing connection to www.dropbox.com:443.\n",
            "HTTP request sent, awaiting response... 302 Found\n",
            "Location: https://ucde744f0295fc7fbedda3812de2.dl.dropboxusercontent.com/cd/0/inline/BPm-QT-9_kJOHw0pJg5qYB8y66sDK18VUvV8sPOXTdyTuATjUGR4YhwARMfxLJoYMMi1EZJ9Qa094WB7NF6MaR_8NJI9KtzlgbNZrxEXE8Jg1VR24CHfLOuTKztNcge8DGFewYtD58Ja7AqYEdd-wFf7/file# [following]\n",
            "--2021-06-01 15:02:40--  https://ucde744f0295fc7fbedda3812de2.dl.dropboxusercontent.com/cd/0/inline/BPm-QT-9_kJOHw0pJg5qYB8y66sDK18VUvV8sPOXTdyTuATjUGR4YhwARMfxLJoYMMi1EZJ9Qa094WB7NF6MaR_8NJI9KtzlgbNZrxEXE8Jg1VR24CHfLOuTKztNcge8DGFewYtD58Ja7AqYEdd-wFf7/file\n",
            "Resolving ucde744f0295fc7fbedda3812de2.dl.dropboxusercontent.com (ucde744f0295fc7fbedda3812de2.dl.dropboxusercontent.com)... 162.125.2.15, 2620:100:6020:15::a27d:400f\n",
            "Connecting to ucde744f0295fc7fbedda3812de2.dl.dropboxusercontent.com (ucde744f0295fc7fbedda3812de2.dl.dropboxusercontent.com)|162.125.2.15|:443... connected.\n",
            "HTTP request sent, awaiting response... 200 OK\n",
            "Length: 375057097 (358M) [text/plain]\n",
            "Saving to: ‘./data/test.csv’\n",
            "\n",
            "./data/test.csv     100%[===================>] 357.68M  80.1MB/s    in 4.9s    \n",
            "\n",
            "2021-06-01 15:02:45 (73.7 MB/s) - ‘./data/test.csv’ saved [375057097/375057097]\n",
            "\n"
          ],
          "name": "stdout"
        }
      ]
    },
    {
      "cell_type": "code",
      "metadata": {
        "id": "A6lECq_4pzU2"
      },
      "source": [
        "train = pd.read_csv('./data/train.csv')\n",
        "test = pd.read_csv('./data/test.csv')"
      ],
      "execution_count": null,
      "outputs": []
    },
    {
      "cell_type": "code",
      "metadata": {
        "colab": {
          "base_uri": "https://localhost:8080/",
          "height": 204
        },
        "id": "J-y1UPMPGXEh",
        "outputId": "946c931a-1548-4a2c-a150-d41c39bb6ce5"
      },
      "source": [
        "train[train.duplicated(keep=False)].sample(5)"
      ],
      "execution_count": null,
      "outputs": [
        {
          "output_type": "execute_result",
          "data": {
            "text/html": [
              "<div>\n",
              "<style scoped>\n",
              "    .dataframe tbody tr th:only-of-type {\n",
              "        vertical-align: middle;\n",
              "    }\n",
              "\n",
              "    .dataframe tbody tr th {\n",
              "        vertical-align: top;\n",
              "    }\n",
              "\n",
              "    .dataframe thead th {\n",
              "        text-align: right;\n",
              "    }\n",
              "</style>\n",
              "<table border=\"1\" class=\"dataframe\">\n",
              "  <thead>\n",
              "    <tr style=\"text-align: right;\">\n",
              "      <th></th>\n",
              "      <th>sentence</th>\n",
              "      <th>language</th>\n",
              "    </tr>\n",
              "  </thead>\n",
              "  <tbody>\n",
              "    <tr>\n",
              "      <th>3024980</th>\n",
              "      <td>гэта што калі мы не яны як але ён каб дзякуй б...</td>\n",
              "      <td>ru</td>\n",
              "    </tr>\n",
              "    <tr>\n",
              "      <th>1249471</th>\n",
              "      <td>the and of it that you to apos we this is in t...</td>\n",
              "      <td>ta</td>\n",
              "    </tr>\n",
              "    <tr>\n",
              "      <th>108013</th>\n",
              "      <td>гэта што калі мы не яны як але ён каб дзякуй б...</td>\n",
              "      <td>ru</td>\n",
              "    </tr>\n",
              "    <tr>\n",
              "      <th>1483794</th>\n",
              "      <td>що це ми не як на вони та але ви до про він оп...</td>\n",
              "      <td>et</td>\n",
              "    </tr>\n",
              "    <tr>\n",
              "      <th>688275</th>\n",
              "      <td>гэта што калі мы не яны як але ён каб дзякуй б...</td>\n",
              "      <td>ru</td>\n",
              "    </tr>\n",
              "  </tbody>\n",
              "</table>\n",
              "</div>"
            ],
            "text/plain": [
              "                                                  sentence language\n",
              "3024980  гэта што калі мы не яны як але ён каб дзякуй б...       ru\n",
              "1249471  the and of it that you to apos we this is in t...       ta\n",
              "108013   гэта што калі мы не яны як але ён каб дзякуй б...       ru\n",
              "1483794  що це ми не як на вони та але ви до про він оп...       et\n",
              "688275   гэта што калі мы не яны як але ён каб дзякуй б...       ru"
            ]
          },
          "metadata": {
            "tags": []
          },
          "execution_count": 8
        }
      ]
    },
    {
      "cell_type": "code",
      "metadata": {
        "id": "wrbu83qf9gfa"
      },
      "source": [
        "# Очистим данные от дубликатов\n",
        "train_clear = train[~train.duplicated(keep=False)]\n",
        "\n",
        "X, y = train_clear.iloc[:, 0], train_clear.iloc[:, 1]"
      ],
      "execution_count": null,
      "outputs": []
    },
    {
      "cell_type": "code",
      "metadata": {
        "id": "7UigM3d6YjVE"
      },
      "source": [
        "# Убираем html-мнемоники и лишние символы перед векторизацией\n",
        "def ngrams_prep(text):\n",
        "  return re.sub(r'[\\W\\d]', '', html.unescape(text.lower()))\n",
        "\n",
        "def words_prep(text):\n",
        "  return re.sub(r'\\d', '', html.unescape(text.lower()))"
      ],
      "execution_count": null,
      "outputs": []
    },
    {
      "cell_type": "code",
      "metadata": {
        "id": "FNpMDvpo6nV0"
      },
      "source": [
        "# Будем строить модель на униграммах, биграммах и словах с tfidf-векторизацией \n",
        "model = Pipeline([('transform', ColumnTransformer([('n-grams',\n",
        "                                                    TfidfVectorizer(preprocessor=ngrams_prep,\n",
        "                                                                    analyzer='char', ngram_range=(1, 2),\n",
        "                                                                    min_df=1000),\n",
        "                                                   'sentence'),\n",
        "                                                  ('words',\n",
        "                                                   TfidfVectorizer(preprocessor=words_prep,\n",
        "                                                                   analyzer='word',\n",
        "                                                                   min_df=100),\n",
        "                                                   'sentence')])),\n",
        "                 ('clf', SGDClassifier(alpha=1e-06))])"
      ],
      "execution_count": null,
      "outputs": []
    },
    {
      "cell_type": "code",
      "metadata": {
        "id": "6BEltrvF_5x2",
        "colab": {
          "base_uri": "https://localhost:8080/"
        },
        "outputId": "67a55bb1-00cb-4de5-ec4c-eb65e8a86767"
      },
      "source": [
        "# Тест на отложеннной выборке\n",
        "X_train, X_test, y_train, y_test = train_test_split(\n",
        "    X, y, test_size=0.4, random_state=42)\n",
        "\n",
        "model.fit(pd.DataFrame(X_train), y_train)\n",
        "predict = model.predict(pd.DataFrame(X_test))\n",
        "\n",
        "balanced_accuracy_score(y_test, predict)"
      ],
      "execution_count": null,
      "outputs": [
        {
          "output_type": "execute_result",
          "data": {
            "text/plain": [
              "0.9018664733134661"
            ]
          },
          "metadata": {
            "tags": []
          },
          "execution_count": 7
        }
      ]
    },
    {
      "cell_type": "code",
      "metadata": {
        "id": "O7UMg0DExMG2"
      },
      "source": [
        "# Итоговое предсказание\n",
        "model.fit(pd.DataFrame(X), y)\n",
        "submission = model.predict(pd.DataFrame(test.iloc[:, 1]))\n",
        "\n",
        "submission_ = pd.concat([test.iloc[:, 0], pd.Series(submission, name='language')],\n",
        "                        axis=1)\n",
        "submission_.to_csv('submission.csv', index=False)"
      ],
      "execution_count": null,
      "outputs": []
    }
  ]
}